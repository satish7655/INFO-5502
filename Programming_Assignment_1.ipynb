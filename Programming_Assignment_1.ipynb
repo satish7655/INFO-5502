{
  "nbformat": 4,
  "nbformat_minor": 0,
  "metadata": {
    "colab": {
      "name": "Programming Assignment 1.ipynb",
      "provenance": [],
      "collapsed_sections": [],
      "authorship_tag": "ABX9TyOiWKV45ERQS0MPovyS1LjV",
      "include_colab_link": true
    },
    "kernelspec": {
      "name": "python3",
      "display_name": "Python 3"
    },
    "language_info": {
      "name": "python"
    }
  },
  "cells": [
    {
      "cell_type": "markdown",
      "metadata": {
        "id": "view-in-github",
        "colab_type": "text"
      },
      "source": [
        "<a href=\"https://colab.research.google.com/github/satish7655/INFO-5502/blob/main/Programming_Assignment_1.ipynb\" target=\"_parent\"><img src=\"https://colab.research.google.com/assets/colab-badge.svg\" alt=\"Open In Colab\"/></a>"
      ]
    },
    {
      "cell_type": "code",
      "metadata": {
        "id": "zbF0OzOVu-3_",
        "colab": {
          "base_uri": "https://localhost:8080/"
        },
        "outputId": "8961ff98-973f-486e-cec5-176e42336aca"
      },
      "source": [
        "# creating an empty list\n",
        "user_words_list = []\n",
        "\n",
        "# number of elements as input\n",
        "user_input = int(input(\"Enter the number of strings you want to compare and sort : \"))\n",
        "\n",
        "# iterating till the range of user choice and adding them to the list of words\n",
        "for i in range(0, user_input):\n",
        "    element = (input(\"Please enter the string you want in the list: \"))\n",
        "    user_words_list.append(element)  # adding the element to the list\n",
        "    # Sorting a string\n",
        "    print(\"Added to the list:\", user_words_list)\n",
        "\n",
        "\n",
        "def convert(unsorted_user_list):\n",
        "    for i in range(len(unsorted_user_list)):\n",
        "        for j in range(i + 1,len(unsorted_user_list)):\n",
        "            if unsorted_user_list[i] > unsorted_user_list[j]:\n",
        "                temp= unsorted_user_list[i]\n",
        "                unsorted_user_list[i]=unsorted_user_list[j]\n",
        "                unsorted_user_list[j] = temp\n",
        "    return unsorted_user_list\n",
        "\n",
        "\n",
        "\n",
        "\n",
        "print(\"\\nRESULTS:\")\n",
        "print(\"\\nThe sorted list in the order: \")\n",
        "#call the function\n",
        "print(convert(user_words_list))\n",
        "\n",
        "#testcase\n",
        "rand_list=['jbhd', 'zzd', 'alo', 'lpp', 'kd', '100','500','.009','hello',':)','!','16', '19', '13', '18', '15','Programming','INFO 5502','$$']\n",
        "print(\" \\nBefore sorting:\",rand_list)\n",
        "print(\"After sorting:\",convert(rand_list))\n"
      ],
      "execution_count": 2,
      "outputs": [
        {
          "output_type": "stream",
          "text": [
            "Enter the number of strings you want to compare and sort : 10\n",
            "Please enter the string you want in the list: 10.00\n",
            "Added to the list: ['10.00']\n",
            "Please enter the string you want in the list: 0.99\n",
            "Added to the list: ['10.00', '0.99']\n",
            "Please enter the string you want in the list: 3000\n",
            "Added to the list: ['10.00', '0.99', '3000']\n",
            "Please enter the string you want in the list: 1\n",
            "Added to the list: ['10.00', '0.99', '3000', '1']\n",
            "Please enter the string you want in the list: satish\n",
            "Added to the list: ['10.00', '0.99', '3000', '1', 'satish']\n",
            "Please enter the string you want in the list: zerox\n",
            "Added to the list: ['10.00', '0.99', '3000', '1', 'satish', 'zerox']\n",
            "Please enter the string you want in the list: avenue\n",
            "Added to the list: ['10.00', '0.99', '3000', '1', 'satish', 'zerox', 'avenue']\n",
            "Please enter the string you want in the list: love\n",
            "Added to the list: ['10.00', '0.99', '3000', '1', 'satish', 'zerox', 'avenue', 'love']\n",
            "Please enter the string you want in the list: maharjan\n",
            "Added to the list: ['10.00', '0.99', '3000', '1', 'satish', 'zerox', 'avenue', 'love', 'maharjan']\n",
            "Please enter the string you want in the list: :)\n",
            "Added to the list: ['10.00', '0.99', '3000', '1', 'satish', 'zerox', 'avenue', 'love', 'maharjan', ':)']\n",
            "\n",
            "RESULTS:\n",
            "\n",
            "The sorted list in the order: \n",
            "['0.99', '1', '10.00', '3000', ':)', 'avenue', 'love', 'maharjan', 'satish', 'zerox']\n",
            " \n",
            "Before sorting: ['jbhd', 'zzd', 'alo', 'lpp', 'kd', '100', '500', '.009', 'hello', ':)', '!', '16', '19', '13', '18', '15', 'Programming', 'INFO 5502', '$$']\n",
            "After sorting: ['!', '$$', '.009', '100', '13', '15', '16', '18', '19', '500', ':)', 'INFO 5502', 'Programming', 'alo', 'hello', 'jbhd', 'kd', 'lpp', 'zzd']\n"
          ],
          "name": "stdout"
        }
      ]
    }
  ]
}