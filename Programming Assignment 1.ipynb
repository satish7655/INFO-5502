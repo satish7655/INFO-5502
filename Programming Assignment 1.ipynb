{
  "nbformat": 4,
  "nbformat_minor": 0,
  "metadata": {
    "colab": {
      "name": "Assignment_1.ipynb",
      "provenance": [],
      "collapsed_sections": [],
      "authorship_tag": "ABX9TyMT+vXXH1CiY4tuB8UUfpt8",
      "include_colab_link": true
    },
    "kernelspec": {
      "name": "python3",
      "display_name": "Python 3"
    },
    "language_info": {
      "name": "python"
    }
  },
  "cells": [
    {
      "cell_type": "markdown",
      "metadata": {
        "id": "view-in-github",
        "colab_type": "text"
      },
      "source": [
        "<a href=\"https://colab.research.google.com/github/satish7655/INFO-5502/blob/main/Programming%20Assignment%201.ipynb\" target=\"_parent\"><img src=\"https://colab.research.google.com/assets/colab-badge.svg\" alt=\"Open In Colab\"/></a>"
      ]
    },
    {
      "cell_type": "code",
      "metadata": {
        "id": "zbF0OzOVu-3_"
      },
      "source": [
        ""
      ],
      "execution_count": null,
      "outputs": []
    },
    {
      "cell_type": "code",
      "metadata": {
        "colab": {
          "base_uri": "https://localhost:8080/"
        },
        "id": "5KDK0nQwvAWa",
        "outputId": "3978b7f4-b576-4871-ff58-8901a26f3b5d"
      },
      "source": [
        "# creating an empty list\n",
        "user_words_list = []\n",
        "\n",
        "# number of elements as input\n",
        "user_input = int(input(\"Enter the number of strings you want to compare and sort : \"))\n",
        "\n",
        "# iterating till the range of user choice and adding them to the list of words\n",
        "for i in range(0, user_input):\n",
        "    element = (input(\"Please enter the string you want in the list: \"))\n",
        "    user_words_list.append(element)  # adding the element to the list\n",
        "    # Sorting a string\n",
        "    print(\"Added to the list:\", user_words_list)\n",
        "\n",
        "\n",
        "def convert(unsorted_user_list):\n",
        "    for i in range(len(unsorted_user_list)):\n",
        "        for j in range(i + 1,len(unsorted_user_list)):\n",
        "            if unsorted_user_list[i] > unsorted_user_list[j]:\n",
        "                temp= unsorted_user_list[i]\n",
        "                unsorted_user_list[i]=unsorted_user_list[j]\n",
        "                unsorted_user_list[j] = temp\n",
        "    return unsorted_user_list\n",
        "\n",
        "\n",
        "\n",
        "\n",
        "print(\"\\nRESULTS:\")\n",
        "print(\"\\nThe sorted list in the order: \")\n",
        "#call the function\n",
        "print(convert(user_words_list))\n",
        "\n",
        "#testcase\n",
        "rand_list=['jbhd', 'zzd', 'alo', 'lpp', 'kd', '100','500','.009','hello',':)','!','16', '19', '13', '18', '15','Programming','INFO 5502','$$']\n",
        "print(\" \\nBefore sorting:\",rand_list)\n",
        "print(\"After sorting:\",convert(rand_list))\n"
      ],
      "execution_count": null,
      "outputs": [
        {
          "output_type": "stream",
          "text": [
            "Enter the number of strings : 3\n",
            "Please enter the string you want in the list: satish\n",
            "Added to the list: ['satish']\n",
            "Please enter the string you want in the list: anusha\n",
            "Added to the list: ['satish', 'anusha']\n",
            "Please enter the string you want in the list: 911\n",
            "Added to the list: ['satish', 'anusha', '911']\n",
            "\n",
            "RESULTS:\n",
            "\n",
            "The sorted list in the order: \n",
            "['911', 'anusha', 'satish']\n",
            "[100, 999]\n"
          ],
          "name": "stdout"
        }
      ]
    }
  ]
}